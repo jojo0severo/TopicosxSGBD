{
 "cells": [
  {
   "cell_type": "markdown",
   "metadata": {},
   "source": [
    "O processo a seguir representa o que foi aplicado no arquivo \"with_all_columns.py\", porém a única diferença entre os outros processos é a remoção de uma ou duas colunas, sendo assim não é interessante a recriação de todo arquivo com apenas uma alteração, então caso vá executar todo o notebook fique atento nos dados que serão utilizados"
   ]
  },
  {
   "cell_type": "markdown",
   "metadata": {},
   "source": [
    "### Primeiramente vamos realizar todos os imports necessários dos nossos modelos e bibliotecas auxiliares\n",
    "\n",
    "- pandas: Irá nos auxiliar a manipular o dataset\n",
    "- random: Irá nos auxiliar na escolhe dos modelos \"democráticos\"\n",
    "- sklearn: Irá fornecer uma interface para diferentes modelos de aprendizado de máquina"
   ]
  },
  {
   "cell_type": "code",
   "execution_count": null,
   "metadata": {},
   "outputs": [],
   "source": [
    "import pandas as pd\n",
    "import random as rn\n",
    "from sklearn.linear_model import LogisticRegression\n",
    "from sklearn.tree import DecisionTreeClassifier\n",
    "from sklearn.tree import ExtraTreeClassifier\n",
    "from sklearn.ensemble import AdaBoostClassifier\n",
    "from sklearn.ensemble import ExtraTreesClassifier\n",
    "from sklearn.ensemble import BaggingClassifier\n",
    "from sklearn.ensemble import RandomForestClassifier\n",
    "from sklearn.ensemble import VotingClassifier\n",
    "from sklearn.ensemble import GradientBoostingClassifier\n",
    "from sklearn.neural_network import MLPClassifier\n",
    "from sklearn.naive_bayes import GaussianNB\n",
    "from sklearn.model_selection import cross_val_score\n",
    "import warnings"
   ]
  },
  {
   "cell_type": "markdown",
   "metadata": {},
   "source": [
    "### Vamos definir uma variável global para pode reproduzir os resultados posteriormente"
   ]
  },
  {
   "cell_type": "code",
   "execution_count": null,
   "metadata": {},
   "outputs": [],
   "source": [
    "RANDOM_STATE = 30"
   ]
  },
  {
   "cell_type": "markdown",
   "metadata": {},
   "source": [
    "### Alterar a seed da biblioteca random para a nossa seed escolhida"
   ]
  },
  {
   "cell_type": "code",
   "execution_count": null,
   "metadata": {},
   "outputs": [],
   "source": [
    "warnings.simplefilter(action='ignore')\n",
    "rn.seed(RANDOM_STATE)"
   ]
  },
  {
   "cell_type": "markdown",
   "metadata": {},
   "source": [
    "### Medidas tomadas, vamos ler o nosso dataset e começar o trabalho"
   ]
  },
  {
   "cell_type": "code",
   "execution_count": null,
   "metadata": {},
   "outputs": [],
   "source": [
    "df = pd.read_csv('../clean_dataset.csv')"
   ]
  },
  {
   "cell_type": "markdown",
   "metadata": {},
   "source": [
    "#### Remove a coluna damage do dataset"
   ]
  },
  {
   "cell_type": "code",
   "execution_count": null,
   "metadata": {},
   "outputs": [],
   "source": [
    "df = df.drop(['damange'], axis=1)"
   ]
  },
  {
   "cell_type": "markdown",
   "metadata": {},
   "source": [
    "#### Remove a coluna games do dataset"
   ]
  },
  {
   "cell_type": "code",
   "execution_count": null,
   "metadata": {},
   "outputs": [],
   "source": [
    "df = df.drop(['games'], axis=1)"
   ]
  },
  {
   "cell_type": "markdown",
   "metadata": {},
   "source": [
    "#### Remove as colunas, games e damage do dataset"
   ]
  },
  {
   "cell_type": "code",
   "execution_count": null,
   "metadata": {},
   "outputs": [],
   "source": [
    "df = df.drop(['damange', 'games'], axis=1)"
   ]
  },
  {
   "cell_type": "markdown",
   "metadata": {},
   "source": [
    "### Vamos separar 80% dos dados restantes para treino e deixar 20% para teste"
   ]
  },
  {
   "cell_type": "code",
   "execution_count": null,
   "metadata": {},
   "outputs": [],
   "source": [
    "train_df = df.sample(frac=.8, random_state=RANDOM_STATE)\n",
    "\n",
    "x_train = train_df.iloc[:, 1:]\n",
    "y_train = train_df.iloc[:, 0]"
   ]
  },
  {
   "cell_type": "code",
   "execution_count": null,
   "metadata": {},
   "outputs": [],
   "source": [
    "test_df = df.sample(frac=.2, random_state=RANDOM_STATE)\n",
    "\n",
    "x_test = test_df.iloc[:, 1:]\n",
    "y_test = test_df.iloc[:, 0]"
   ]
  },
  {
   "cell_type": "markdown",
   "metadata": {},
   "source": [
    "## Com os dados separados vamos instanciar nossos modelos"
   ]
  },
  {
   "cell_type": "markdown",
   "metadata": {},
   "source": [
    "### Modelos Lineares"
   ]
  },
  {
   "cell_type": "code",
   "execution_count": null,
   "metadata": {},
   "outputs": [],
   "source": [
    "logistic_regression = LogisticRegression(solver='lbfgs', multi_class='multinomial')"
   ]
  },
  {
   "cell_type": "markdown",
   "metadata": {},
   "source": [
    "### Modelos baseados em árvores"
   ]
  },
  {
   "cell_type": "code",
   "execution_count": null,
   "metadata": {},
   "outputs": [],
   "source": [
    "tree_classifier = DecisionTreeClassifier()\n",
    "extra_tree_classifier = ExtraTreeClassifier()"
   ]
  },
  {
   "cell_type": "markdown",
   "metadata": {},
   "source": [
    "### Modelos baseados na técnica de ensemble"
   ]
  },
  {
   "cell_type": "code",
   "execution_count": null,
   "metadata": {},
   "outputs": [],
   "source": [
    "adaboost_classifier = AdaBoostClassifier()\n",
    "extra_trees_classifier = ExtraTreesClassifier(n_estimators=70)\n",
    "bagging_classifier = BaggingClassifier()\n",
    "random_forest_classifier = RandomForestClassifier()\n",
    "gradient_boost_classifier = GradientBoostingClassifier()"
   ]
  },
  {
   "cell_type": "markdown",
   "metadata": {},
   "source": [
    "### Modelos baseados em redes neurais"
   ]
  },
  {
   "cell_type": "code",
   "execution_count": null,
   "metadata": {},
   "outputs": [],
   "source": [
    "mlp_classifier = MLPClassifier(max_iter=700, random_state=RANDOM_STATE)"
   ]
  },
  {
   "cell_type": "markdown",
   "metadata": {},
   "source": [
    "### Todos os modelos anteriores não requeriam parâmetros, poderiam ser dados, mas não eram necessários. Os modelos a seguir necessitam de alguns parâmetros e aqui nós construímos eles. Esses parâmetros são os submodelos que farão parte da democracia"
   ]
  },
  {
   "cell_type": "code",
   "execution_count": null,
   "metadata": {},
   "outputs": [],
   "source": [
    "\n",
    "tree_estimators = [('tc', DecisionTreeClassifier()), ('etc', ExtraTreeClassifier())]\n",
    "boost_estimators = [\n",
    "    ('adac', AdaBoostClassifier()), ('etsc', ExtraTreesClassifier(n_estimators=70)),\n",
    "    ('bc', BaggingClassifier()), ('rfc', RandomForestClassifier()), ('gbc', GradientBoostingClassifier())]\n",
    "nb_estimators = [('mc', MLPClassifier()), ('gnb', GaussianNB())]\n",
    "mix_estimators = [\n",
    "    ('le', LogisticRegression(solver='lbfgs', max_iter=1000, multi_class='multinomial')),\n",
    "    ('te', rn.choice(tree_estimators)[1]), *rn.sample(boost_estimators, 4), *rn.sample(nb_estimators, 2)]\n",
    "all_estimators = [('lgr',  LogisticRegression(solver='lbfgs', max_iter=1000, multi_class='multinomial')),\n",
    "                  *tree_estimators, *boost_estimators, *nb_estimators]"
   ]
  },
  {
   "cell_type": "markdown",
   "metadata": {},
   "source": [
    "### Modelos baseados na técnica de ensemble"
   ]
  },
  {
   "cell_type": "code",
   "execution_count": null,
   "metadata": {},
   "outputs": [],
   "source": [
    "voting_classifier_tree = VotingClassifier(estimators=tree_estimators)\n",
    "voting_classifier_boost = VotingClassifier(estimators=boost_estimators, voting='soft')\n",
    "voting_classifier_nb = VotingClassifier(estimators=nb_estimators)\n",
    "voting_classifier_mix = VotingClassifier(estimators=mix_estimators)\n",
    "voting_classifier_all = VotingClassifier(estimators=all_estimators)"
   ]
  },
  {
   "cell_type": "markdown",
   "metadata": {},
   "source": [
    "### Com todos nossos modelos instanciados, podemos treiná-los"
   ]
  },
  {
   "cell_type": "code",
   "execution_count": null,
   "metadata": {},
   "outputs": [],
   "source": [
    "logistic_regression.fit(x_train, y_train)"
   ]
  },
  {
   "cell_type": "code",
   "execution_count": null,
   "metadata": {},
   "outputs": [],
   "source": [
    "tree_classifier.fit(x_train, y_train)\n",
    "extra_tree_classifier.fit(x_train, y_train)"
   ]
  },
  {
   "cell_type": "code",
   "execution_count": null,
   "metadata": {},
   "outputs": [],
   "source": [
    "adaboost_classifier.fit(x_train, y_train)\n",
    "extra_trees_classifier.fit(x_train, y_train)\n",
    "bagging_classifier.fit(x_train, y_train)\n",
    "gradient_boost_classifier.fit(x_train, y_train)"
   ]
  },
  {
   "cell_type": "code",
   "execution_count": null,
   "metadata": {},
   "outputs": [],
   "source": [
    "mlp_classifier.fit(x_train, y_train)"
   ]
  },
  {
   "cell_type": "code",
   "execution_count": null,
   "metadata": {},
   "outputs": [],
   "source": [
    "voting_classifier_tree.fit(x_train, y_train)\n",
    "voting_classifier_boost.fit(x_train, y_train)\n",
    "voting_classifier_nb.fit(x_train, y_train)\n",
    "voting_classifier_mix.fit(x_train, y_train)\n",
    "voting_classifier_all.fit(x_train, y_train)"
   ]
  },
  {
   "cell_type": "markdown",
   "metadata": {},
   "source": [
    "### Após treinar nossos modelos vamos avaliar as acurácias com o método score de cada um"
   ]
  },
  {
   "cell_type": "code",
   "execution_count": null,
   "metadata": {},
   "outputs": [],
   "source": [
    "f'Logistic Regression Model Score: {logistic_regression.score(x_test, y_test)}'"
   ]
  },
  {
   "cell_type": "code",
   "execution_count": null,
   "metadata": {},
   "outputs": [],
   "source": [
    "f'Tree Model Score: {tree_classifier.score(x_test, y_test)}'\n",
    "f'Extra Tree Model Score: {extra_tree_classifier.score(x_test, y_test)}'"
   ]
  },
  {
   "cell_type": "code",
   "execution_count": null,
   "metadata": {},
   "outputs": [],
   "source": [
    "f'AdaBoost Model Score: {adaboost_classifier.score(x_test, y_test)}'\n",
    "f'Extra Trees Model Score: {extra_trees_classifier.score(x_test, y_test)}'\n",
    "f'Bagging Model Score: {bagging_classifier.score(x_test, y_test)}'\n",
    "f'Gradient Boost Model Score: {gradient_boost_classifier.score(x_test, y_test)}'"
   ]
  },
  {
   "cell_type": "code",
   "execution_count": null,
   "metadata": {},
   "outputs": [],
   "source": [
    "f'MultiLayer Perceptron Model Score: {mlp_classifier.score(x_test, y_test)}'"
   ]
  },
  {
   "cell_type": "code",
   "execution_count": null,
   "metadata": {},
   "outputs": [],
   "source": [
    "f'VotingClassifier Tree Models Score: {voting_classifier_tree.score(x_test, y_test)}'\n",
    "f'VotingClassifier Boost Models Score: {voting_classifier_boost.score(x_test, y_test)}'\n",
    "f'VotingClassifier Naive Bayes Models Score: {voting_classifier_nb.score(x_test, y_test)}'\n",
    "f'VotingClassifier Mixed Models Score: {voting_classifier_mix.score(x_test, y_test)}'\n",
    "f'VotingClassifier All Models Score: {voting_classifier_all.score(x_test, y_test)}'"
   ]
  },
  {
   "cell_type": "markdown",
   "metadata": {},
   "source": [
    "### Avaliações dos modelos utilizando cross-validation"
   ]
  },
  {
   "cell_type": "markdown",
   "metadata": {},
   "source": [
    "#### Logistic Regression cross-validation F1, Precision and Recall"
   ]
  },
  {
   "cell_type": "code",
   "execution_count": null,
   "metadata": {},
   "outputs": [],
   "source": [
    "f\"Accuracy  : {round((sum(cross_val_score(LogisticRegression(solver='lbfgs', multi_class='multinomial'), df.iloc[:, 1:], df.iloc[:, 0], cv=10))/10) * 100, 2)}%\"\n",
    "f\"F1        : {round((sum(cross_val_score(LogisticRegression(solver='lbfgs', multi_class='multinomial'), df.iloc[:, 1:], df.iloc[:, 0], cv=10, scoring='f1_macro'))/10) * 100, 2)}%\"\n",
    "f\"Precision : {round((sum(cross_val_score(LogisticRegression(solver='lbfgs', multi_class='multinomial'), df.iloc[:, 1:], df.iloc[:, 0], cv=10, scoring='precision_macro'))/10) * 100, 2)}%\"\n",
    "f\"Recall    : {round((sum(cross_val_score(LogisticRegression(solver='lbfgs', multi_class='multinomial'), df.iloc[:, 1:], df.iloc[:, 0], cv=10, scoring='recall_macro'))/10) * 100, 2)}%\""
   ]
  },
  {
   "cell_type": "markdown",
   "metadata": {},
   "source": [
    "#### Decision Tree cross-validation F1, Precision and Recall"
   ]
  },
  {
   "cell_type": "code",
   "execution_count": null,
   "metadata": {},
   "outputs": [],
   "source": [
    "f\"Accuracy  : {round((sum(cross_val_score(DecisionTreeClassifier(), df.iloc[:, 1:], df.iloc[:, 0], cv=10))/10) * 100, 2)}%\"\n",
    "f\"F1        : {round((sum(cross_val_score(DecisionTreeClassifier(), df.iloc[:, 1:], df.iloc[:, 0], cv=10, scoring='f1_macro'))/10) * 100, 2)}%\"\n",
    "f\"Precision : {round((sum(cross_val_score(DecisionTreeClassifier(), df.iloc[:, 1:], df.iloc[:, 0], cv=10, scoring='precision_macro'))/10) * 100, 2)}%\"\n",
    "f\"Recall    : {round((sum(cross_val_score(DecisionTreeClassifier(), df.iloc[:, 1:], df.iloc[:, 0], cv=10, scoring='recall_macro'))/10) * 100, 2)}%\""
   ]
  },
  {
   "cell_type": "markdown",
   "metadata": {},
   "source": [
    "#### Extra Tree cross-validation F1, Precision and Recall"
   ]
  },
  {
   "cell_type": "code",
   "execution_count": null,
   "metadata": {},
   "outputs": [],
   "source": [
    "f\"Accuracy  : {round((sum(cross_val_score(ExtraTreeClassifier(), df.iloc[:, 1:], df.iloc[:, 0], cv=10))/10) * 100, 2)}%\"\n",
    "f\"F1        : {round((sum(cross_val_score(ExtraTreeClassifier(), df.iloc[:, 1:], df.iloc[:, 0], cv=10, scoring='f1_macro'))/10) * 100, 2)}%\"\n",
    "f\"Precision : {round((sum(cross_val_score(ExtraTreeClassifier(), df.iloc[:, 1:], df.iloc[:, 0], cv=10, scoring='precision_macro'))/10) * 100, 2)}%\"\n",
    "f\"Recall    : {round((sum(cross_val_score(ExtraTreeClassifier(), df.iloc[:, 1:], df.iloc[:, 0], cv=10, scoring='recall_macro'))/10) * 100, 2)}%\""
   ]
  },
  {
   "cell_type": "markdown",
   "metadata": {},
   "source": [
    "#### Voting Tree cross-validation F1, Precision and Recall"
   ]
  },
  {
   "cell_type": "code",
   "execution_count": null,
   "metadata": {},
   "outputs": [],
   "source": [
    "f\"Accuracy  : {round((sum(cross_val_score(VotingClassifier(estimators=tree_estimators), df.iloc[:, 1:], df.iloc[:, 0], cv=10))/10) * 100, 2)}%\"\n",
    "f\"F1        : {round((sum(cross_val_score(VotingClassifier(estimators=tree_estimators), df.iloc[:, 1:], df.iloc[:, 0], cv=10, scoring='f1_macro'))/10) * 100, 2)}%\"\n",
    "f\"Precision : {round((sum(cross_val_score(VotingClassifier(estimators=tree_estimators), df.iloc[:, 1:], df.iloc[:, 0], cv=10, scoring='precision_macro'))/10) * 100, 2)}%\"\n",
    "f\"Recall    : {round((sum(cross_val_score(VotingClassifier(estimators=tree_estimators), df.iloc[:, 1:], df.iloc[:, 0], cv=10, scoring='recall_macro'))/10) * 100, 2)}%\""
   ]
  },
  {
   "cell_type": "markdown",
   "metadata": {},
   "source": [
    "#### AdaBoost cross-validation F1, Precision and Recall"
   ]
  },
  {
   "cell_type": "code",
   "execution_count": null,
   "metadata": {},
   "outputs": [],
   "source": [
    "f\"Accuracy  : {round((sum(cross_val_score(AdaBoostClassifier(), df.iloc[:, 1:], df.iloc[:, 0], cv=10))/10) * 100, 2)}%\"\n",
    "f\"F1        : {round((sum(cross_val_score(AdaBoostClassifier(), df.iloc[:, 1:], df.iloc[:, 0], cv=10, scoring='f1_macro'))/10) * 100, 2)}%\"\n",
    "f\"Precision : {round((sum(cross_val_score(AdaBoostClassifier(), df.iloc[:, 1:], df.iloc[:, 0], cv=10, scoring='precision_macro'))/10) * 100, 2)}%\"\n",
    "f\"Recall    : {round((sum(cross_val_score(AdaBoostClassifier(), df.iloc[:, 1:], df.iloc[:, 0], cv=10, scoring='recall_macro'))/10) * 100, 2)}%\""
   ]
  },
  {
   "cell_type": "markdown",
   "metadata": {},
   "source": [
    "#### Extra Trees cross-validation F1, Precision and Recall"
   ]
  },
  {
   "cell_type": "code",
   "execution_count": null,
   "metadata": {},
   "outputs": [],
   "source": [
    "f\"Accuracy  : {round((sum(cross_val_score(ExtraTreesClassifier(n_estimators=70), df.iloc[:, 1:], df.iloc[:, 0], cv=10))/10) * 100, 2)}%\"\n",
    "f\"F1        : {round((sum(cross_val_score(ExtraTreesClassifier(n_estimators=70), df.iloc[:, 1:], df.iloc[:, 0], cv=10, scoring='f1_macro'))/10) * 100, 2)}%\"\n",
    "f\"Precision : {round((sum(cross_val_score(ExtraTreesClassifier(n_estimators=70), df.iloc[:, 1:], df.iloc[:, 0], cv=10, scoring='precision_macro'))/10) * 100, 2)}%\"\n",
    "f\"Recall    : {round((sum(cross_val_score(ExtraTreesClassifier(n_estimators=70), df.iloc[:, 1:], df.iloc[:, 0], cv=10, scoring='recall_macro'))/10) * 100, 2)}%\""
   ]
  },
  {
   "cell_type": "markdown",
   "metadata": {},
   "source": [
    "#### Bagging cross-validation F1, Precision and Recall"
   ]
  },
  {
   "cell_type": "code",
   "execution_count": null,
   "metadata": {},
   "outputs": [],
   "source": [
    "f\"Accuracy  : {round((sum(cross_val_score(BaggingClassifier(), df.iloc[:, 1:], df.iloc[:, 0], cv=10))/10) * 100, 2)}%\"\n",
    "f\"F1        : {round((sum(cross_val_score(BaggingClassifier(), df.iloc[:, 1:], df.iloc[:, 0], cv=10, scoring='f1_macro'))/10) * 100, 2)}%\"\n",
    "f\"Precision : {round((sum(cross_val_score(BaggingClassifier(), df.iloc[:, 1:], df.iloc[:, 0], cv=10, scoring='precision_macro'))/10) * 100, 2)}%\"\n",
    "f\"Recall    : {round((sum(cross_val_score(BaggingClassifier(), df.iloc[:, 1:], df.iloc[:, 0], cv=10, scoring='recall_macro '))/10) * 100, 2)}%\""
   ]
  },
  {
   "cell_type": "markdown",
   "metadata": {},
   "source": [
    "#### Random Forest cross-validation F1, Precision and Recall"
   ]
  },
  {
   "cell_type": "code",
   "execution_count": null,
   "metadata": {},
   "outputs": [],
   "source": [
    "f\"Accuracy  : {round((sum(cross_val_score(RandomForestClassifier(), df.iloc[:, 1:], df.iloc[:, 0], cv=10))/10) * 100, 2)}%\"\n",
    "f\"F1        : {round((sum(cross_val_score(RandomForestClassifier(), df.iloc[:, 1:], df.iloc[:, 0], cv=10, scoring='f1_macro'))/10) * 100, 2)}%\"\n",
    "f\"Precision : {round((sum(cross_val_score(RandomForestClassifier(), df.iloc[:, 1:], df.iloc[:, 0], cv=10, scoring='precision_macro'))/10) * 100, 2)}%\"\n",
    "f\"Recall    : {round((sum(cross_val_score(RandomForestClassifier(), df.iloc[:, 1:], df.iloc[:, 0], cv=10, scoring='recall_macro'))/10) * 100, 2)}%\""
   ]
  },
  {
   "cell_type": "markdown",
   "metadata": {},
   "source": [
    "#### Gradient cross-validation F1, Precision and Recall"
   ]
  },
  {
   "cell_type": "code",
   "execution_count": null,
   "metadata": {},
   "outputs": [],
   "source": [
    "f\"Accuracy  : {round((sum(cross_val_score(GradientBoostingClassifier(), df.iloc[:, 1:], df.iloc[:, 0], cv=10))/10) * 100, 2)}%\"\n",
    "f\"F1        : {round((sum(cross_val_score(GradientBoostingClassifier(), df.iloc[:, 1:], df.iloc[:, 0], cv=10, scoring='f1_macro'))/10) * 100, 2)}%\"\n",
    "f\"Precision : {round((sum(cross_val_score(GradientBoostingClassifier(), df.iloc[:, 1:], df.iloc[:, 0], cv=10, scoring='precision_macro'))/10) * 100, 2)}%\"\n",
    "f\"Recall    : {round((sum(cross_val_score(GradientBoostingClassifier(), df.iloc[:, 1:], df.iloc[:, 0], cv=10, scoring='recall_macro'))/10) * 100, 2)}%\""
   ]
  },
  {
   "cell_type": "markdown",
   "metadata": {},
   "source": [
    "#### Voting Boost cross-validation F1, Precision and Recall"
   ]
  },
  {
   "cell_type": "code",
   "execution_count": null,
   "metadata": {},
   "outputs": [],
   "source": [
    "f\"Accuracy  : {round((sum(cross_val_score(VotingClassifier(estimators=boost_estimators, voting='soft'), df.iloc[:, 1:], df.iloc[:, 0], cv=10))/10) * 100, 2)}%\"\n",
    "f\"F1        : {round((sum(cross_val_score(VotingClassifier(estimators=boost_estimators, voting='soft'), df.iloc[:, 1:], df.iloc[:, 0], cv=10, scoring='f1_macro'))/10) * 100, 2)}%\"\n",
    "f\"Precision : {round((sum(cross_val_score(VotingClassifier(estimators=boost_estimators, voting='soft'), df.iloc[:, 1:], df.iloc[:, 0], cv=10, scoring='precision_macro'))/10) * 100, 2)}%\"\n",
    "f\"Recall    : {round((sum(cross_val_score(VotingClassifier(estimators=boost_estimators, voting='soft'), df.iloc[:, 1:], df.iloc[:, 0], cv=10, scoring='recall_macro'))/10) * 100, 2)}%\""
   ]
  },
  {
   "cell_type": "markdown",
   "metadata": {},
   "source": [
    "#### MLP cross-validation F1, Precision and Recall"
   ]
  },
  {
   "cell_type": "code",
   "execution_count": null,
   "metadata": {},
   "outputs": [],
   "source": [
    "f\"Accuracy  : {round((sum(cross_val_score(MLPClassifier(max_iter=700, random_state=RANDOM_STATE), df.iloc[:, 1:], df.iloc[:, 0], cv=10))/10) * 100, 2)}%\"\n",
    "f\"F1        : {round((sum(cross_val_score(MLPClassifier(max_iter=700, random_state=RANDOM_STATE), df.iloc[:, 1:], df.iloc[:, 0], cv=10, scoring='f1_macro'))/10) * 100, 2)}%\"\n",
    "f\"Precision : {round((sum(cross_val_score(MLPClassifier(max_iter=700, random_state=RANDOM_STATE), df.iloc[:, 1:], df.iloc[:, 0], cv=10, scoring='precision_macro'))/10) * 100, 2)}%\"\n",
    "f\"Recall    : {round((sum(cross_val_score(MLPClassifier(max_iter=700, random_state=RANDOM_STATE), df.iloc[:, 1:], df.iloc[:, 0], cv=10, scoring='recall_macro'))/10) * 100, 2)}%\""
   ]
  },
  {
   "cell_type": "markdown",
   "metadata": {},
   "source": [
    "#### Gaussian cross-validation F1, Precision and Recall"
   ]
  },
  {
   "cell_type": "code",
   "execution_count": null,
   "metadata": {},
   "outputs": [],
   "source": [
    "f\"Accuracy  : {round((sum(cross_val_score(GaussianNB(), df.iloc[:, 1:], df.iloc[:, 0], cv=10))/10) * 100, 2)}%\"\n",
    "f\"F1        : {round((sum(cross_val_score(GaussianNB(), df.iloc[:, 1:], df.iloc[:, 0], cv=10, scoring='f1_macro'))/10) * 100, 2)}%\"\n",
    "f\"Precision : {round((sum(cross_val_score(GaussianNB(), df.iloc[:, 1:], df.iloc[:, 0], cv=10, scoring='precision_macro'))/10) * 100, 2)}%\"\n",
    "f\"Recall    : {round((sum(cross_val_score(GaussianNB(), df.iloc[:, 1:], df.iloc[:, 0], cv=10, scoring='recall_macro'))/10) * 100, 2)}%\""
   ]
  },
  {
   "cell_type": "markdown",
   "metadata": {},
   "source": [
    "#### NaiveBayes Voting cross-validation F1, Precision and Recall"
   ]
  },
  {
   "cell_type": "code",
   "execution_count": null,
   "metadata": {},
   "outputs": [],
   "source": [
    "f\"Accuracy  : {round((sum(cross_val_score(VotingClassifier(estimators=nb_estimators), df.iloc[:, 1:], df.iloc[:, 0], cv=10))/10) * 100, 2)}%\"\n",
    "f\"F1        : {round((sum(cross_val_score(VotingClassifier(estimators=nb_estimators), df.iloc[:, 1:], df.iloc[:, 0], cv=10, scoring='f1_macro'))/10) * 100, 2)}%\"\n",
    "f\"Precision : {round((sum(cross_val_score(VotingClassifier(estimators=nb_estimators), df.iloc[:, 1:], df.iloc[:, 0], cv=10, scoring='precision_macro'))/10) * 100, 2)}%\"\n",
    "f\"Recall    : {round((sum(cross_val_score(VotingClassifier(estimators=nb_estimators), df.iloc[:, 1:], df.iloc[:, 0], cv=10, scoring='recall_macro'))/10) * 100, 2)}%\""
   ]
  },
  {
   "cell_type": "markdown",
   "metadata": {},
   "source": [
    "#### Mixed Voting cross-validation F1, Precision and Recall"
   ]
  },
  {
   "cell_type": "code",
   "execution_count": null,
   "metadata": {},
   "outputs": [],
   "source": [
    "f\"Accuracy  : {round((sum(cross_val_score(VotingClassifier(estimators=mix_estimators), df.iloc[:, 1:], df.iloc[:, 0], cv=10))/10) * 100, 2)}%\"\n",
    "f\"F1        : {round((sum(cross_val_score(VotingClassifier(estimators=mix_estimators), df.iloc[:, 1:], df.iloc[:, 0], cv=10, scoring='f1_macro'))/10) * 100, 2)}%\"\n",
    "f\"Precision : {round((sum(cross_val_score(VotingClassifier(estimators=mix_estimators), df.iloc[:, 1:], df.iloc[:, 0], cv=10, scoring='precision_macro'))/10) * 100, 2)}%\"\n",
    "f\"Recall    : {round((sum(cross_val_score(VotingClassifier(estimators=mix_estimators), df.iloc[:, 1:], df.iloc[:, 0], cv=10, scoring='recall_macro'))/10) * 100, 2)}%\""
   ]
  },
  {
   "cell_type": "markdown",
   "metadata": {},
   "source": [
    "#### All Voting cross-validation F1, Precision and Recall"
   ]
  },
  {
   "cell_type": "code",
   "execution_count": null,
   "metadata": {},
   "outputs": [],
   "source": [
    "f\"Accuracy  : {round((sum(cross_val_score(VotingClassifier(estimators=all_estimators), df.iloc[:, 1:], df.iloc[:, 0], cv=10))/10) * 100, 2)}%\"\n",
    "f\"F1        : {round((sum(cross_val_score(VotingClassifier(estimators=all_estimators), df.iloc[:, 1:], df.iloc[:, 0], cv=10, scoring='f1_macro'))/10) * 100, 2)}%\"\n",
    "f\"Precision : {round((sum(cross_val_score(VotingClassifier(estimators=all_estimators), df.iloc[:, 1:], df.iloc[:, 0], cv=10, scoring='precision_macro'))/10) * 100, 2)}%\"\n",
    "f\"Recall    : {round((sum(cross_val_score(VotingClassifier(estimators=all_estimators), df.iloc[:, 1:], df.iloc[:, 0], cv=10, scoring='recall_macro'))/10) * 100, 2)}%\""
   ]
  }
 ],
 "metadata": {
  "kernelspec": {
   "display_name": "Python 3",
   "language": "python",
   "name": "python3"
  },
  "language_info": {
   "codemirror_mode": {
    "name": "ipython",
    "version": 3
   },
   "file_extension": ".py",
   "mimetype": "text/x-python",
   "name": "python",
   "nbconvert_exporter": "python",
   "pygments_lexer": "ipython3",
   "version": "3.6.8"
  }
 },
 "nbformat": 4,
 "nbformat_minor": 2
}

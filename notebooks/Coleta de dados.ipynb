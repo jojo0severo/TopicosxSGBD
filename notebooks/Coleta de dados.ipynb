{
 "cells": [
  {
   "cell_type": "markdown",
   "metadata": {},
   "source": [
    "# Coleta dos nomes de usuário dos jogadores"
   ]
  },
  {
   "cell_type": "markdown",
   "metadata": {},
   "source": [
    "### Antes de podermos coletar nossos dados precisamos importar os módulos que iremos utilizar\n",
    "\n",
    "- multiprocessing: Será utilizado para paralelizar nossos processos\n",
    "- selenium: Irá simular um usuário navegando pela internet coletando os dados\n",
    "- os: Irá criar as pastas caso elas não existam para manter uma hierarquia de arquivos organizada\n",
    "- pathlib: Utilizar caminhos não relativos até arquivos"
   ]
  },
  {
   "cell_type": "code",
   "execution_count": null,
   "metadata": {},
   "outputs": [],
   "source": [
    "from multiprocessing import Pool\n",
    "from selenium.webdriver import Chrome\n",
    "from selenium.webdriver.chrome.options import Options\n",
    "from selenium.common.exceptions import *\n",
    "import os\n",
    "import pathlib"
   ]
  },
  {
   "cell_type": "markdown",
   "metadata": {},
   "source": [
    "### Vamos inicializar algumas variáveis globais para poupar certo tempo depois"
   ]
  },
  {
   "cell_type": "code",
   "execution_count": null,
   "metadata": {},
   "outputs": [],
   "source": [
    "url = 'https://www.mobafire.com/league-of-legends/players?sort_type=create_ts&sort_order=desc&name=&'\n",
    "\n",
    "options = Options()\n",
    "options.add_argument('--headless')\n",
    "driver_path = pathlib.Path(__file__).parent / 'chromedriver.exe'\n"
   ]
  },
  {
   "cell_type": "markdown",
   "metadata": {},
   "source": [
    "### Criamos aqui a classe que fará toda a mágica de recuperar os nomes de usuário para nossa aplicação\n",
    "\n",
    "#### Um breve passo a passo do seu funcionamento\n",
    "1. Recupera o endereço que irá simular a função de filtro do site (o filtro era utilizado pela URL, então nada melhor do que simular o clique mandando direto a URL)\n",
    "2. Abrimos a página com o filtro e tentamos encontrar um elemento que sinaliza o fim dos registros, ou seja, se chegamos na última página um texto era exibido, se encontramos esse texto paramos\n",
    "3. Recuperamos a tabela que contém o nome dos jogadores e pegamos todas as suas linhas\n",
    "4. Iteramos sobre as linhas recuperando o nome do jogador somente, ignorando qualquer outra informação disponível naquela linha\n",
    "5. Criamos a estrutura de diretórios para o servidor especificado e o elo especificado\n",
    "6. Adicionamos os registros recuperados nessa página e continuamos o loop"
   ]
  },
  {
   "cell_type": "code",
   "execution_count": null,
   "metadata": {},
   "outputs": [],
   "source": [
    "def get_users_nick(server, elo, driver):\n",
    "    filt = f'server={str(server).upper()}&elo_min={str(elo).title()}&elo_max={str(elo).title()}'\n",
    "    count = 1\n",
    "\n",
    "    while 1:\n",
    "        driver.get(url + filt + f'&page={count}')\n",
    "\n",
    "        try:\n",
    "            _ = driver.find_element_by_xpath('//*[@id=\"browse-players\"]/p').text\n",
    "            break\n",
    "        except NoSuchElementException:\n",
    "            pass\n",
    "\n",
    "        table = driver.find_element_by_xpath('//*[@id=\"browse-players\"]/div[2]/div/table/tbody')\n",
    "        rows = table.find_elements_by_tag_name('tr')\n",
    "\n",
    "        nicknames = []\n",
    "        for element in rows:\n",
    "            nicknames.append(str(element.find_elements_by_tag_name('td')[1].find_element_by_tag_name('a').text))\n",
    "\n",
    "        file = f'{server}'\n",
    "        os.makedirs(file, exist_ok=True)\n",
    "\n",
    "        with open(f'{file}/{elo}.txt', 'a+') as writable:\n",
    "            writable.write('\\n'.join(nicknames))\n",
    "\n",
    "        count += 1\n"
   ]
  },
  {
   "cell_type": "markdown",
   "metadata": {},
   "source": [
    "### Como toda a mágina ocorre no método acima, esse método acaba sendo um pouco ignorado, mas ele é de grande importância, pois ele possibilita o paralelismo do nosso programa\n",
    "\n",
    "#### Como ele faz isso? Bom, vejamos\n",
    "1. Ele cria uma lsita com todos os elos possíveis\n",
    "2. Ele cria um driver só para ele, gerando assim múltiplos drivers ao mesmo tempo\n",
    "2. Para cada elo ele chama o método da mágica contendo o servidor que lhe foi passado\n",
    "3. Fecha o driver e apaga a variável da memória para evitar quaisquer problemas"
   ]
  },
  {
   "cell_type": "code",
   "execution_count": null,
   "metadata": {},
   "outputs": [],
   "source": [
    "def call_for_each_server(server):\n",
    "    elos = ['bronze', 'silver', 'gold', 'platinum', 'diamond', 'master', 'challenger']\n",
    "\n",
    "    driver = Chrome(str(driver_path.absolute()), chrome_options=options)\n",
    "    for elo in elos:\n",
    "        get_users_nick(server, elo, driver)\n",
    "\n",
    "    driver.close()\n",
    "    driver.quit()\n",
    "    del driver\n"
   ]
  },
  {
   "cell_type": "markdown",
   "metadata": {},
   "source": [
    "### A célula abaixo apenas envia todos os servidores para diferentes processos do sistema que irão executar o método \"call_for_each_server\" em paralelo"
   ]
  },
  {
   "cell_type": "code",
   "execution_count": null,
   "metadata": {},
   "outputs": [],
   "source": [
    "servers = ['br', 'eune', 'euw', 'kr', 'lan', 'las', 'na', 'oce', 'ru', 'tr', 'ch', 'ph', 'sea']\n",
    "\n",
    "with Pool(processes=13) as p:\n",
    "    p.map(call_for_each_server, servers)"
   ]
  },
  {
   "cell_type": "markdown",
   "metadata": {},
   "source": [
    "<p>_____________________________________________________________________________________________________________________________<p>"
   ]
  },
  {
   "cell_type": "markdown",
   "metadata": {},
   "source": [
    "# Coleta das estatísticas dos jogadores"
   ]
  },
  {
   "cell_type": "markdown",
   "metadata": {},
   "source": [
    "### Vamos fazer alguns imports importantes para essa etapa\n",
    "\n",
    "- selenium: Novamente, mas utilizando a classe Select para tratar alguns elementos da web que não eram necessários antes\n",
    "- inflect: Para imprimir verbalmente os números. 1 -> Primeiro, 2 -> Segundo, etc.\n",
    "- random: Só porque eu sou noiado e desconfiei que ele não estava agregando nada aos arquivos, somente utilizando os antigos"
   ]
  },
  {
   "cell_type": "code",
   "execution_count": null,
   "metadata": {},
   "outputs": [],
   "source": [
    "from selenium.webdriver.support.select import Select\n",
    "import inflect\n",
    "import random"
   ]
  },
  {
   "cell_type": "markdown",
   "metadata": {},
   "source": [
    "### Definindo novamente a nossa variável global URL, pois ela foi alterada na execução deste script"
   ]
  },
  {
   "cell_type": "code",
   "execution_count": null,
   "metadata": {},
   "outputs": [],
   "source": [
    "url = 'https://teemo.gg/player'"
   ]
  },
  {
   "cell_type": "markdown",
   "metadata": {},
   "source": [
    "### Define um método auxiliar que irá ser utilizado para encontrar um elemento no HTML"
   ]
  },
  {
   "cell_type": "code",
   "execution_count": null,
   "metadata": {},
   "outputs": [],
   "source": [
    "def try_to_find_element(driver, identificador, kind):\n",
    "    import time\n",
    "    start = time.time()\n",
    "\n",
    "    identificador = identificador.replace('\"', \"'\")\n",
    "    while time.time() - start < 5:\n",
    "        try:\n",
    "            _ = exec(f'driver.find_element_by_{kind}(\"{identificador}\").text')\n",
    "            return True\n",
    "        except NoSuchElementException:\n",
    "            pass\n",
    "\n",
    "    return False"
   ]
  },
  {
   "cell_type": "markdown",
   "metadata": {},
   "source": [
    "### O método abaixo coleta os três campeões que nosso jogador mais utiliza e os retorna em formato de lista\n",
    "\n",
    "#### Passo a passo da execução:\n",
    "1. Entra na página do jogador utilizando a URL - neste site a URL também era utilizada como filtro de páginas\n",
    "2. Encontra o elemento que irá ordenar a lista de campeões dos mais jogados para os menos jogados\n",
    "3. Utiliza o elemento anterior para ordenar a lista\n",
    "4. Itera do primeiro até o terceiro elemento coletando o nome dos campeões e desconsiderando qualquer outra informação que possa possuir no HTML do site\n",
    "\n",
    " Caso haja algum erro, o programa é terminado com a messagem de erro \"Deu erro na mastery\" para identificar a origem."
   ]
  },
  {
   "cell_type": "code",
   "execution_count": null,
   "metadata": {},
   "outputs": [],
   "source": [
    "def get_mastery_champions(server, player, driver):\n",
    "    driver.get(f'{url}/champion-masteries/{server}/{player}')\n",
    "    sort = '//*[@id=\"champion-mastery-sorter\"]'\n",
    "    dropdown = Select(driver.find_element_by_xpath(sort))\n",
    "    dropdown.select_by_visible_text('Mastery Points')\n",
    "\n",
    "    champions = []\n",
    "    for i in range(1, 4):\n",
    "        xpath = f'//*[@id=\"champ-mastery-items\"]/div/div[2]/div/div[{i}]/p'\n",
    "        if try_to_find_element(driver, xpath, 'xpath'):\n",
    "            champions.append(driver.find_element_by_xpath(xpath).text)\n",
    "        else:\n",
    "            exit('Deu erro na mastery')\n",
    "\n",
    "    return champions"
   ]
  },
  {
   "cell_type": "markdown",
   "metadata": {},
   "source": [
    "### É feio, mas funciona. O método abaixo recupera todas as estatísticas do jogador\n",
    "\n",
    "São 11 estatísticas sendo elas:\n",
    "1. Games: Quantidade de jogos jogados\n",
    "2. Remakes: Quantidade de partidas refeitas\n",
    "3. Playing time: Quanto tempo de jogo dentro de partidas\n",
    "4. Kills: Quantidade de abates em partidas\n",
    "5. Deaths: Quantidade de mortes em partidas\n",
    "6. Assists: Quantidade de assistência em abates em partidas\n",
    "7. Gold Earned: Quantidade total de ouro ganho em partidas\n",
    "8. Pentakills: Quantidade de abates quíntuplos em partidas\n",
    "9. Wards Placed: Quantidade de vigias colocadas em partidas\n",
    "10. Minions Killed: Quantidade de minions abatidos em partidas\n",
    "11. Total Damage: Dano total causado em partidas\n",
    " \n",
    " Caso haja algum erro, o programa é terminado com a messagem de erro \"Deu erro nos stats\" para identificar a origem"
   ]
  },
  {
   "cell_type": "code",
   "execution_count": null,
   "metadata": {},
   "outputs": [],
   "source": [
    "def get_player_status(server, player, driver):\n",
    "    driver.get(f'{url}/statistics/{server}/{player}')\n",
    "    score_board = driver.find_element_by_id('tm-scoreboard')\n",
    "    if try_to_find_element(driver, 'tm-scoreboard', 'id'):\n",
    "        stats = score_board.find_elements_by_class_name('points')\n",
    "        return [\n",
    "            stats[0].text,\n",
    "            stats[1].text,\n",
    "            stats[2].text,\n",
    "            stats[3].text,\n",
    "            stats[4].text,\n",
    "            stats[5].text,\n",
    "            stats[6].text,\n",
    "            stats[7].text,\n",
    "            stats[8].text,\n",
    "            stats[9].text,\n",
    "            stats[10].text\n",
    "        ]\n",
    "    else:\n",
    "        exit('Deu erro nos stats')"
   ]
  },
  {
   "cell_type": "markdown",
   "metadata": {},
   "source": [
    "### Esse método recupera a nossa coluna target dos dados e é o único que, caso não encontrado, não é adicionada a linha do jogador à tabela de dados\n",
    "\n",
    "#### Passo a passo:\n",
    "1. Entra na página do jogador com o elo e o servidor informados\n",
    "2. Procura o elemento no HTML onde deveria conter o elo\n",
    "3. Caso encontre pode ter um problema, isso é, se o elo for Unranked, nós ignoramos e informamos o elo que o jogador deveria ter. Se não retornamos o elo encontrado\n",
    "\n",
    " Caso haja algum erro, é retornado um IndexError para informar que deve ser pulada essa linha"
   ]
  },
  {
   "cell_type": "code",
   "execution_count": null,
   "metadata": {},
   "outputs": [],
   "source": [
    "def get_player_elo(server, player, driver, elo):\n",
    "    driver.get(f'{url}/resume/{server}/{player}')\n",
    "    xpath = '/html/body/div/section[1]/div/div[1]/div[2]/div[2]/p[1]/b'\n",
    "    if try_to_find_element(driver, xpath, 'xpath'):\n",
    "        current = driver.find_element_by_xpath(xpath).text\n",
    "        return elo if current == 'Unranked' else current\n",
    "\n",
    "    else:\n",
    "        raise IndexError"
   ]
  },
  {
   "cell_type": "markdown",
   "metadata": {},
   "source": [
    "### O maior método entre todos, itera sobre todos os servidores recuperando as informações dos jogadores fazendo uso dos métodos explicados anteriormente. Cria a estrutura de pastas apropriada para cada jogador\n",
    "\n",
    "#### Algumas observações importantes devem ser mencionadas:\n",
    "- O tratamento de erros foi feito com cuidado para que não seja inserida alguma informação errada na tabela de dados, sendo assim, todos os jogadores da tabela de dados existe e pode ser encontrado no site \"https://teemo.gg/\"\n",
    "- A estrutura de arquivos foi feita da seguinte forma: \n",
    "    - __nome_servidor / nome_elo.txt__ : para os arquivos com os nomes dos jogadores\n",
    "    - __player_nome_servidor / file.txt__ : para os arquivos com as estatísticas dos jogadores\n",
    "- O método é executa múltiplas vezes, para prevenir repetição de dados, o arquivo sempre é lido e escrito somente os jogadores não conflitantes, ou seja, os jogadores novos"
   ]
  },
  {
   "cell_type": "code",
   "execution_count": null,
   "metadata": {},
   "outputs": [],
   "source": [
    "def iterate_through_servers(path):\n",
    "    elos = ['bronze', 'silver', 'gold', 'platinum', 'diamond', 'master', 'challenger']\n",
    "\n",
    "    if path.find('/') != '-1':\n",
    "        server = path.split('\\\\')[-1]\n",
    "    else:\n",
    "        server = path.split('/')[-1]\n",
    "\n",
    "    driver = Chrome(executable_path=str(driver_path.absolute()), options=options)\n",
    "    resp = []\n",
    "    for elo in elos:\n",
    "        try:\n",
    "            with open(f'{path}/{elo}.txt', 'r') as players:\n",
    "                for player in players.read().split('\\n'):\n",
    "                    try:\n",
    "                        actual_elo = get_player_elo(server, player, driver, elo)\n",
    "                    except IndexError:\n",
    "                        continue\n",
    "\n",
    "                    status = get_player_status(server, player, driver)\n",
    "                    champions = get_mastery_champions(server, player, driver)\n",
    "\n",
    "                    resp.append((actual_elo, * status, *champions))\n",
    "        except FileNotFoundError:\n",
    "            pass\n",
    "\n",
    "    path = pathlib.Path(path).parent / f'players_{server}'\n",
    "    if not os.path.exists(str(path.absolute())):\n",
    "        os.mkdir(str(path.absolute()))\n",
    "        open(f'players_{server}/file.txt', 'a').close()\n",
    "\n",
    "    writable_players = []\n",
    "    with open(f'players_{server}/file.txt', 'r') as file:\n",
    "        lines = file.read().split('\\n')\n",
    "        writable_players.extend(lines)\n",
    "        for i in resp:\n",
    "            if str(i) not in lines:\n",
    "                writable_players.append(str(i))\n",
    "\n",
    "    with open(f'players_{server}/file.txt', 'w') as file:\n",
    "        file.write('\\n'.join(writable_players))\n",
    "\n",
    "    driver.close()\n",
    "    driver.quit()"
   ]
  },
  {
   "cell_type": "markdown",
   "metadata": {},
   "source": [
    "### Método auxiliar para lista todas as pastas que deveriam ser utilizadas para recuperação das estatísticas\n",
    "\n",
    "Ele percorre as pastas no diretório local e procura por pastas que não comecem por \"player\" nem \"venv\" e não é um arquivo executável nem script, sobrando somente os arquivos com os nomes dos jogadores"
   ]
  },
  {
   "cell_type": "code",
   "execution_count": null,
   "metadata": {},
   "outputs": [],
   "source": [
    "def get_folders(path):\n",
    "    dirs = []\n",
    "    for directory in os.listdir(str(path.absolute())):\n",
    "        if directory != 'venv' and not directory.endswith('exe') and not directory.endswith(\n",
    "                'py') and directory != '.idea' and not directory.startswith('player'):\n",
    "            dirs.append(str((path / directory).absolute()))\n",
    "\n",
    "    return dirs"
   ]
  },
  {
   "cell_type": "markdown",
   "metadata": {},
   "source": [
    "### Esse método possibilita a divisão do processamento para cada pasta encontrada, ou seja, a pasta dos jogadores BR será executada num processo diferente da pasta dos jogadores EUW"
   ]
  },
  {
   "cell_type": "code",
   "execution_count": null,
   "metadata": {},
   "outputs": [],
   "source": [
    "def split_servers():\n",
    "    folders = random.shuffle(get_folders(pathlib.Path()))\n",
    "\n",
    "    with Pool(processes=12) as p:\n",
    "        p.map(func=iterate_through_servers, iterable=folders)"
   ]
  },
  {
   "cell_type": "markdown",
   "metadata": {},
   "source": [
    "### Realiza todo o processo 10 vezes exibindo em qual iteração ele está de forma bonita"
   ]
  },
  {
   "cell_type": "code",
   "execution_count": null,
   "metadata": {},
   "outputs": [],
   "source": [
    "eng = inflect.engine()\n",
    "for i in range(1, 11):\n",
    "    print(f'Started {eng.number_to_words(eng.ordinal(i))} collection, trying again...')\n",
    "    split_servers()"
   ]
  },
  {
   "cell_type": "markdown",
   "metadata": {},
   "source": [
    "<p>_____________________________________________________________________________________________________________________________<p>"
   ]
  },
  {
   "cell_type": "markdown",
   "metadata": {},
   "source": [
    "# Reunindo todas as informações"
   ]
  },
  {
   "cell_type": "markdown",
   "metadata": {},
   "source": [
    "### Primeiro precisamos recuperar todos os arquivos que começam com \"player\" como foi definido pela nossa estrutura"
   ]
  },
  {
   "cell_type": "code",
   "execution_count": null,
   "metadata": {},
   "outputs": [],
   "source": [
    "def get_folders(path):\n",
    "    dirs = []\n",
    "    for directory in os.listdir(str(path.absolute())):\n",
    "        if directory.startswith('player'):\n",
    "            dirs.append(str((path / directory).absolute()))\n",
    "\n",
    "    return dirs\n",
    "\n",
    "root = pathlib.Path(__file__).parent"
   ]
  },
  {
   "cell_type": "markdown",
   "metadata": {},
   "source": [
    "### Utilizaremos um método de auxílio que irá ler o arquivo csv e retornar todo seu conteúdo"
   ]
  },
  {
   "cell_type": "code",
   "execution_count": null,
   "metadata": {},
   "outputs": [],
   "source": [
    "def read_csv(path):\n",
    "    with open(path + '/file.txt', 'r') as csv_file:\n",
    "        return csv_file.read()"
   ]
  },
  {
   "cell_type": "markdown",
   "metadata": {},
   "source": [
    "### Concatenamos todos os arquivos lidos no mesmo arquivo nomeado \"dataset.csv\""
   ]
  },
  {
   "cell_type": "code",
   "execution_count": null,
   "metadata": {},
   "outputs": [],
   "source": [
    "def concatenate_files(folders):\n",
    "    with open('dataset.csv', 'a') as dataset:\n",
    "        for f in folders:\n",
    "            csv_file = read_csv(f)\n",
    "            dataset.write(csv_file)"
   ]
  },
  {
   "cell_type": "markdown",
   "metadata": {},
   "source": [
    "### Chamamos o método que realiza a concatenação e é só partir para o abraço"
   ]
  },
  {
   "cell_type": "code",
   "execution_count": null,
   "metadata": {},
   "outputs": [],
   "source": [
    "concatenate_files(get_folders(root))"
   ]
  }
 ],
 "metadata": {
  "kernelspec": {
   "display_name": "Python 3",
   "language": "python",
   "name": "python3"
  },
  "language_info": {
   "codemirror_mode": {
    "name": "ipython",
    "version": 3
   },
   "file_extension": ".py",
   "mimetype": "text/x-python",
   "name": "python",
   "nbconvert_exporter": "python",
   "pygments_lexer": "ipython3",
   "version": "3.6.8"
  }
 },
 "nbformat": 4,
 "nbformat_minor": 2
}
